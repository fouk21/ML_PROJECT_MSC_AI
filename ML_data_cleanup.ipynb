{
  "nbformat": 4,
  "nbformat_minor": 0,
  "metadata": {
    "colab": {
      "provenance": []
    },
    "kernelspec": {
      "name": "python3",
      "display_name": "Python 3"
    },
    "language_info": {
      "name": "python"
    }
  },
  "cells": [
    {
      "cell_type": "markdown",
      "source": [
        "Gross Margin\n",
        "Total Current Equity\n",
        "Basic EPS / Total Assets\n",
        "Basic EPS / Total Equity\n",
        "Total Assets / Total Equity\n",
        "Total Current Assets / Total Current Equity\n",
        "Total Revenue / Total Assets\n",
        "Total Revenue / Total Equity\n",
        "Gross Profit / Total Assets\n",
        "Gross Profit / Total Equity\n",
        "Net Income / Total Assets\n",
        "Net Income / Total Equity\n"
      ],
      "metadata": {
        "id": "JUHF9G9jgOYN"
      }
    },
    {
      "cell_type": "markdown",
      "source": [
        "# Imports"
      ],
      "metadata": {
        "id": "RV_v5sSpq9Zw"
      }
    },
    {
      "cell_type": "code",
      "source": [
        "import pandas as pd\n",
        "from scipy import stats\n",
        "from google.colab import drive\n",
        "!pip install itables\n",
        "from itables import init_notebook_mode\n",
        "init_notebook_mode(all_interactive=True)\n",
        "\n",
        "drive.mount(\"/content/drive\")\n",
        "df = pd.read_csv(\"/content/drive/MyDrive/final_dataset.csv\",index_col = 0)"
      ],
      "metadata": {
        "id": "Ix2hokujW5BF",
        "colab": {
          "base_uri": "https://localhost:8080/"
        },
        "outputId": "c259892f-2c6f-46e4-942e-da560336ed3b"
      },
      "execution_count": null,
      "outputs": [
        {
          "output_type": "stream",
          "name": "stdout",
          "text": [
            "Collecting itables\n",
            "  Downloading itables-1.7.0-py3-none-any.whl (200 kB)\n",
            "\u001b[2K     \u001b[90m━━━━━━━━━━━━━━━━━━━━━━━━━━━━━━━━━━━━━━━━\u001b[0m \u001b[32m200.9/200.9 kB\u001b[0m \u001b[31m3.5 MB/s\u001b[0m eta \u001b[36m0:00:00\u001b[0m\n",
            "\u001b[?25hRequirement already satisfied: IPython in /usr/local/lib/python3.10/dist-packages (from itables) (7.34.0)\n",
            "Requirement already satisfied: pandas in /usr/local/lib/python3.10/dist-packages (from itables) (1.5.3)\n",
            "Requirement already satisfied: numpy in /usr/local/lib/python3.10/dist-packages (from itables) (1.23.5)\n",
            "Requirement already satisfied: setuptools>=18.5 in /usr/local/lib/python3.10/dist-packages (from IPython->itables) (67.7.2)\n",
            "Collecting jedi>=0.16 (from IPython->itables)\n",
            "  Downloading jedi-0.19.1-py2.py3-none-any.whl (1.6 MB)\n",
            "\u001b[2K     \u001b[90m━━━━━━━━━━━━━━━━━━━━━━━━━━━━━━━━━━━━━━━━\u001b[0m \u001b[32m1.6/1.6 MB\u001b[0m \u001b[31m10.0 MB/s\u001b[0m eta \u001b[36m0:00:00\u001b[0m\n",
            "\u001b[?25hRequirement already satisfied: decorator in /usr/local/lib/python3.10/dist-packages (from IPython->itables) (4.4.2)\n",
            "Requirement already satisfied: pickleshare in /usr/local/lib/python3.10/dist-packages (from IPython->itables) (0.7.5)\n",
            "Requirement already satisfied: traitlets>=4.2 in /usr/local/lib/python3.10/dist-packages (from IPython->itables) (5.7.1)\n",
            "Requirement already satisfied: prompt-toolkit!=3.0.0,!=3.0.1,<3.1.0,>=2.0.0 in /usr/local/lib/python3.10/dist-packages (from IPython->itables) (3.0.43)\n",
            "Requirement already satisfied: pygments in /usr/local/lib/python3.10/dist-packages (from IPython->itables) (2.16.1)\n",
            "Requirement already satisfied: backcall in /usr/local/lib/python3.10/dist-packages (from IPython->itables) (0.2.0)\n",
            "Requirement already satisfied: matplotlib-inline in /usr/local/lib/python3.10/dist-packages (from IPython->itables) (0.1.6)\n",
            "Requirement already satisfied: pexpect>4.3 in /usr/local/lib/python3.10/dist-packages (from IPython->itables) (4.9.0)\n",
            "Requirement already satisfied: python-dateutil>=2.8.1 in /usr/local/lib/python3.10/dist-packages (from pandas->itables) (2.8.2)\n",
            "Requirement already satisfied: pytz>=2020.1 in /usr/local/lib/python3.10/dist-packages (from pandas->itables) (2023.4)\n",
            "Requirement already satisfied: parso<0.9.0,>=0.8.3 in /usr/local/lib/python3.10/dist-packages (from jedi>=0.16->IPython->itables) (0.8.3)\n",
            "Requirement already satisfied: ptyprocess>=0.5 in /usr/local/lib/python3.10/dist-packages (from pexpect>4.3->IPython->itables) (0.7.0)\n",
            "Requirement already satisfied: wcwidth in /usr/local/lib/python3.10/dist-packages (from prompt-toolkit!=3.0.0,!=3.0.1,<3.1.0,>=2.0.0->IPython->itables) (0.2.13)\n",
            "Requirement already satisfied: six>=1.5 in /usr/local/lib/python3.10/dist-packages (from python-dateutil>=2.8.1->pandas->itables) (1.16.0)\n",
            "Installing collected packages: jedi, itables\n",
            "Successfully installed itables-1.7.0 jedi-0.19.1\n",
            "Drive already mounted at /content/drive; to attempt to forcibly remount, call drive.mount(\"/content/drive\", force_remount=True).\n"
          ]
        }
      ]
    },
    {
      "cell_type": "code",
      "source": [
        "df = pd.read_csv(\"/content/drive/MyDrive/final_dataset.csv\",index_col = 0)"
      ],
      "metadata": {
        "id": "6DBvL2x09dj9"
      },
      "execution_count": 48,
      "outputs": []
    },
    {
      "cell_type": "code",
      "source": [
        "df.columns.to_list()\n"
      ],
      "metadata": {
        "colab": {
          "base_uri": "https://localhost:8080/"
        },
        "id": "BtpmZdSxXlPz",
        "outputId": "76c784a3-1cc4-4a9c-e957-66d7df9715fe"
      },
      "execution_count": null,
      "outputs": [
        {
          "output_type": "execute_result",
          "data": {
            "text/plain": [
              "['Year',\n",
              " 'Total Assets',\n",
              " 'Total Current Assets',\n",
              " 'Cash, Cash Equivalents and Short Term Investments',\n",
              " 'Cash and Cash Equivalents',\n",
              " 'Total Non-Current Assets',\n",
              " 'Total Liabilities',\n",
              " 'Total Current Liabilities',\n",
              " 'Payables and Accrued Expenses, Current',\n",
              " 'Trade and Other Payables, Current',\n",
              " 'Total Non-Current Liabilities',\n",
              " 'Total Equity',\n",
              " 'Cash Flow from Operating Activities, Indirect',\n",
              " 'Net Cash Flow from Continuing Operating Activities, Indirect',\n",
              " 'Cash Generated from Operating Activities',\n",
              " 'Income/Loss before Non-Cash Adjustment',\n",
              " 'Total Adjustments for Non-Cash Items',\n",
              " 'Changes in Operating Capital',\n",
              " 'Cash Flow from Investing Activities',\n",
              " 'Cash Flow from Continuing Investing Activities',\n",
              " 'Cash Flow from Financing Activities',\n",
              " 'Cash Flow from Continuing Financing Activities',\n",
              " 'Cash and Cash Equivalents, End of Period',\n",
              " 'Change in Cash',\n",
              " 'Cash and Cash Equivalents, Beginning of Period',\n",
              " 'Cash Flow Supplemental Section',\n",
              " 'Change in Cash as Reported, Supplemental',\n",
              " 'Gross Profit',\n",
              " 'Total Revenue',\n",
              " 'Business Revenue',\n",
              " 'Total Operating Profit/Loss',\n",
              " 'Non-Operating Income/Expense, Total',\n",
              " 'Pretax Income',\n",
              " 'Net Income before Extraordinary Items and Discontinued Operations',\n",
              " 'Diluted Net Income Available to Common Stockholders',\n",
              " 'Basic EPS',\n",
              " 'Diluted EPS',\n",
              " 'Basic WASO',\n",
              " 'Diluted WASO',\n",
              " 'Tiker',\n",
              " 'Open',\n",
              " 'Date',\n",
              " 'return']"
            ]
          },
          "metadata": {},
          "execution_count": 3
        }
      ]
    },
    {
      "cell_type": "markdown",
      "source": [
        "# Spearman Correlations for X variables to Y variable"
      ],
      "metadata": {
        "id": "x4AqnmRhrDwH"
      }
    },
    {
      "cell_type": "markdown",
      "source": [
        "We chose the spearman correlation criterion due to:\n",
        "- Not always linear relationship between the variables\n",
        "- Not all variables follow the normal distribution"
      ],
      "metadata": {
        "id": "qJ-UeOzoscSj"
      }
    },
    {
      "cell_type": "code",
      "source": [
        "correlated_columns = []\n",
        "for column in df.columns:\n",
        "  if column in ['Tiker','Date','return','Open','Year']:\n",
        "    continue\n",
        "  spearman_corr = stats.spearmanr(df[column],df['return'])\n",
        "  if (abs(spearman_corr[0]) > 0.05) and (abs(spearman_corr[1]) < 0.05):\n",
        "    print(\"Spearman corr:\")\n",
        "    print(\"For the column \" + column + \" we get the correlation results:\")\n",
        "    print(spearman_corr)\n",
        "    correlated_columns.append(column)"
      ],
      "metadata": {
        "colab": {
          "base_uri": "https://localhost:8080/"
        },
        "id": "rCkuh1HdfG5Y",
        "outputId": "65ae24ee-6991-4cff-99be-91974fa4b9e3"
      },
      "execution_count": 49,
      "outputs": [
        {
          "output_type": "stream",
          "name": "stdout",
          "text": [
            "Spearman corr:\n",
            "For the column Cash Flow from Operating Activities, Indirect we get the correlation results:\n",
            "SignificanceResult(statistic=0.15960568199903633, pvalue=6.438212248271895e-24)\n",
            "Spearman corr:\n",
            "For the column Net Cash Flow from Continuing Operating Activities, Indirect we get the correlation results:\n",
            "SignificanceResult(statistic=0.1596626778213689, pvalue=6.2033939187284875e-24)\n",
            "Spearman corr:\n",
            "For the column Cash Generated from Operating Activities we get the correlation results:\n",
            "SignificanceResult(statistic=0.1588577765514353, pvalue=1.0470111539819682e-23)\n",
            "Spearman corr:\n",
            "For the column Income/Loss before Non-Cash Adjustment we get the correlation results:\n",
            "SignificanceResult(statistic=0.17477377448248893, pvalue=2.0108902357905018e-28)\n",
            "Spearman corr:\n",
            "For the column Changes in Operating Capital we get the correlation results:\n",
            "SignificanceResult(statistic=0.09276342417925419, pvalue=5.334006973834969e-09)\n",
            "Spearman corr:\n",
            "For the column Cash Flow from Investing Activities we get the correlation results:\n",
            "SignificanceResult(statistic=-0.06870907130527322, pvalue=1.569127755238584e-05)\n",
            "Spearman corr:\n",
            "For the column Cash Flow from Continuing Investing Activities we get the correlation results:\n",
            "SignificanceResult(statistic=-0.06725461029463826, pvalue=2.3669850337054774e-05)\n",
            "Spearman corr:\n",
            "For the column Change in Cash we get the correlation results:\n",
            "SignificanceResult(statistic=0.14537037172214373, pvalue=4.5020012363323285e-20)\n",
            "Spearman corr:\n",
            "For the column Change in Cash as Reported, Supplemental we get the correlation results:\n",
            "SignificanceResult(statistic=0.14746681167317108, pvalue=1.289153604611259e-20)\n",
            "Spearman corr:\n",
            "For the column Gross Profit we get the correlation results:\n",
            "SignificanceResult(statistic=0.06520420315249635, pvalue=4.167888706142107e-05)\n",
            "Spearman corr:\n",
            "For the column Total Revenue we get the correlation results:\n",
            "SignificanceResult(statistic=0.052479253285717814, pvalue=0.0009772657431045511)\n",
            "Spearman corr:\n",
            "For the column Business Revenue we get the correlation results:\n",
            "SignificanceResult(statistic=0.05304403548519101, pvalue=0.0008606229911242095)\n",
            "Spearman corr:\n",
            "For the column Total Operating Profit/Loss we get the correlation results:\n",
            "SignificanceResult(statistic=0.15620670838179512, pvalue=5.758235177912001e-23)\n",
            "Spearman corr:\n",
            "For the column Pretax Income we get the correlation results:\n",
            "SignificanceResult(statistic=0.16994714235494202, pvalue=6.070241645141708e-27)\n",
            "Spearman corr:\n",
            "For the column Net Income before Extraordinary Items and Discontinued Operations we get the correlation results:\n",
            "SignificanceResult(statistic=0.1726725284682822, pvalue=8.97305998205894e-28)\n",
            "Spearman corr:\n",
            "For the column Diluted Net Income Available to Common Stockholders we get the correlation results:\n",
            "SignificanceResult(statistic=0.1768595895685456, pvalue=4.471654421040234e-29)\n",
            "Spearman corr:\n",
            "For the column Basic EPS we get the correlation results:\n",
            "SignificanceResult(statistic=0.18528083099158696, pvalue=8.54129711270382e-32)\n",
            "Spearman corr:\n",
            "For the column Diluted EPS we get the correlation results:\n",
            "SignificanceResult(statistic=0.1869050906748085, pvalue=2.464630777433374e-32)\n"
          ]
        },
        {
          "output_type": "stream",
          "name": "stderr",
          "text": [
            "/usr/local/lib/python3.10/dist-packages/scipy/stats/_stats_py.py:5445: ConstantInputWarning: An input array is constant; the correlation coefficient is not defined.\n",
            "  warnings.warn(stats.ConstantInputWarning(warn_msg))\n"
          ]
        }
      ]
    },
    {
      "cell_type": "code",
      "source": [
        "# This loop shows all the columns that do not have a high and statistically significant correlation\n",
        "for column in df.columns:\n",
        "  if column in ['Tiker','Date','return','Open','Year']+correlated_columns:\n",
        "    continue\n",
        "  else:\n",
        "    print(column)"
      ],
      "metadata": {
        "colab": {
          "base_uri": "https://localhost:8080/"
        },
        "id": "gKEgqspbxIl9",
        "outputId": "f4bb89bb-95db-42b2-e4af-c909d0459f7a"
      },
      "execution_count": 50,
      "outputs": [
        {
          "output_type": "stream",
          "name": "stdout",
          "text": [
            "Total Assets\n",
            "Total Current Assets\n",
            "Cash, Cash Equivalents and Short Term Investments\n",
            "Cash and Cash Equivalents\n",
            "Total Non-Current Assets\n",
            "Total Liabilities\n",
            "Total Current Liabilities\n",
            "Payables and Accrued Expenses, Current\n",
            "Trade and Other Payables, Current\n",
            "Total Non-Current Liabilities\n",
            "Total Equity\n",
            "Total Adjustments for Non-Cash Items\n",
            "Cash Flow from Financing Activities\n",
            "Cash Flow from Continuing Financing Activities\n",
            "Cash and Cash Equivalents, End of Period\n",
            "Cash and Cash Equivalents, Beginning of Period\n",
            "Cash Flow Supplemental Section\n",
            "Non-Operating Income/Expense, Total\n",
            "Basic WASO\n",
            "Diluted WASO\n"
          ]
        }
      ]
    },
    {
      "cell_type": "markdown",
      "source": [
        "After reviewing the correlations, we choose to remove certain columns due to these criteria:\n",
        "1. Certain columns have almost the same meaning (financially speaking)\n",
        "2. Certain columns are very financially confusing and provide very detailed, very low-level information about a stock\n",
        "3. Certain columns have no correlation whatsoever and do not provide a high level picture of the stock (high level: stock's revenue or assets)\n",
        "\n",
        "Columns that are removed:\n",
        "- Payables and Accrued Expenses, Current (criterions 2,3)\n",
        "- Trade and Other Payables, Current (criterions 2,3)\n",
        "- Total Adjustments for Non-Cash Items (criterions 2,3)\n",
        "- Cash Flow Supplemental Section (criterions 2,3)\n",
        "- Non-Operating Income/Expense, Total (criterions 2,3)\n",
        "- Basic WASO (criterions 1,3)\n",
        "- Basic EPS (criterions 1,3)\n",
        "- Cash, Cash Equivalents and Short Term Investments (criterions 1,3)\n",
        "- Cash and Cash Equivalents (criterions 1,3)\n",
        "- Cash and Cash Equivalents, End of Period (criterions 1,3)"
      ],
      "metadata": {
        "id": "fr5WN4DkrnyH"
      }
    },
    {
      "cell_type": "code",
      "source": [
        "columns_to_remove = [\n",
        "    'Payables and Accrued Expenses, Current',\n",
        "    'Trade and Other Payables, Current',\n",
        "    'Total Adjustments for Non-Cash Items',\n",
        "    'Cash Flow Supplemental Section',\n",
        "    'Non-Operating Income/Expense, Total',\n",
        "    'Basic WASO',\n",
        "    'Basic EPS',\n",
        "    'Cash, Cash Equivalents and Short Term Investments',\n",
        "    'Cash and Cash Equivalents',\n",
        "    'Cash and Cash Equivalents, End of Period',\n",
        "    'Business Revenue',\n",
        "    'Tiker','Date','Year'\n",
        "]\n",
        "\n",
        "df = df.drop(columns=columns_to_remove)"
      ],
      "metadata": {
        "id": "IPaxR2BC8kMc"
      },
      "execution_count": 51,
      "outputs": []
    },
    {
      "cell_type": "code",
      "source": [
        "df.columns.to_list()"
      ],
      "metadata": {
        "colab": {
          "base_uri": "https://localhost:8080/"
        },
        "id": "TWYD81vC-PYM",
        "outputId": "25f7bbfe-ab4f-467b-c653-6d1edcabbc17"
      },
      "execution_count": 52,
      "outputs": [
        {
          "output_type": "execute_result",
          "data": {
            "text/plain": [
              "['Total Assets',\n",
              " 'Total Current Assets',\n",
              " 'Total Non-Current Assets',\n",
              " 'Total Liabilities',\n",
              " 'Total Current Liabilities',\n",
              " 'Total Non-Current Liabilities',\n",
              " 'Total Equity',\n",
              " 'Cash Flow from Operating Activities, Indirect',\n",
              " 'Net Cash Flow from Continuing Operating Activities, Indirect',\n",
              " 'Cash Generated from Operating Activities',\n",
              " 'Income/Loss before Non-Cash Adjustment',\n",
              " 'Changes in Operating Capital',\n",
              " 'Cash Flow from Investing Activities',\n",
              " 'Cash Flow from Continuing Investing Activities',\n",
              " 'Cash Flow from Financing Activities',\n",
              " 'Cash Flow from Continuing Financing Activities',\n",
              " 'Change in Cash',\n",
              " 'Cash and Cash Equivalents, Beginning of Period',\n",
              " 'Change in Cash as Reported, Supplemental',\n",
              " 'Gross Profit',\n",
              " 'Total Revenue',\n",
              " 'Total Operating Profit/Loss',\n",
              " 'Pretax Income',\n",
              " 'Net Income before Extraordinary Items and Discontinued Operations',\n",
              " 'Diluted Net Income Available to Common Stockholders',\n",
              " 'Diluted EPS',\n",
              " 'Diluted WASO',\n",
              " 'Open',\n",
              " 'return']"
            ]
          },
          "metadata": {},
          "execution_count": 52
        }
      ]
    },
    {
      "cell_type": "markdown",
      "source": [
        "## Creating Net Income column"
      ],
      "metadata": {
        "id": "E9OGwoGXEMD3"
      }
    },
    {
      "cell_type": "markdown",
      "source": [
        "We previously noticed that Net Income columns play a big role (as expected).\n",
        "\n",
        "To eliminate all the different Net Income columns we create the most straightforward Net Income column by multiplying Diluted EPS (Earnings Per Share) * Diluted WASO (Weighted Average Shares Outstanding), providing us with Net Income.\n",
        "\n",
        "Afterwards we test the correlation of the newly created column and remove the other Net Income columns."
      ],
      "metadata": {
        "id": "YIofC_USEGQ9"
      }
    },
    {
      "cell_type": "code",
      "source": [
        "df['Net Income'] = df['Diluted EPS']*df['Diluted WASO']"
      ],
      "metadata": {
        "id": "hlpWuBOY3VsC"
      },
      "execution_count": 53,
      "outputs": []
    },
    {
      "cell_type": "code",
      "source": [
        "spearman_corr = stats.spearmanr(df['Net Income'],df['return'])\n",
        "print(\"Spearman corr:\")\n",
        "print(\"For the column Net Income we get the correlation results:\")\n",
        "print(spearman_corr)"
      ],
      "metadata": {
        "colab": {
          "base_uri": "https://localhost:8080/"
        },
        "id": "AjKsEONKBDaT",
        "outputId": "22f3aa4d-c832-4729-d07b-53e1619e67d0"
      },
      "execution_count": 54,
      "outputs": [
        {
          "output_type": "stream",
          "name": "stdout",
          "text": [
            "Spearman corr:\n",
            "For the column Net Income we get the correlation results:\n",
            "SignificanceResult(statistic=0.17944365220820427, pvalue=6.765632277054281e-30)\n"
          ]
        }
      ]
    },
    {
      "cell_type": "code",
      "source": [
        "df = df.drop(columns=['Pretax Income',\n",
        " 'Net Income before Extraordinary Items and Discontinued Operations',\n",
        " 'Diluted Net Income Available to Common Stockholders',])\n",
        "df.columns.to_list()"
      ],
      "metadata": {
        "colab": {
          "base_uri": "https://localhost:8080/"
        },
        "id": "ao9FD78hFVkH",
        "outputId": "42edd719-7f42-47dd-db1c-5f20dddd6608"
      },
      "execution_count": 55,
      "outputs": [
        {
          "output_type": "execute_result",
          "data": {
            "text/plain": [
              "['Total Assets',\n",
              " 'Total Current Assets',\n",
              " 'Total Non-Current Assets',\n",
              " 'Total Liabilities',\n",
              " 'Total Current Liabilities',\n",
              " 'Total Non-Current Liabilities',\n",
              " 'Total Equity',\n",
              " 'Cash Flow from Operating Activities, Indirect',\n",
              " 'Net Cash Flow from Continuing Operating Activities, Indirect',\n",
              " 'Cash Generated from Operating Activities',\n",
              " 'Income/Loss before Non-Cash Adjustment',\n",
              " 'Changes in Operating Capital',\n",
              " 'Cash Flow from Investing Activities',\n",
              " 'Cash Flow from Continuing Investing Activities',\n",
              " 'Cash Flow from Financing Activities',\n",
              " 'Cash Flow from Continuing Financing Activities',\n",
              " 'Change in Cash',\n",
              " 'Cash and Cash Equivalents, Beginning of Period',\n",
              " 'Change in Cash as Reported, Supplemental',\n",
              " 'Gross Profit',\n",
              " 'Total Revenue',\n",
              " 'Total Operating Profit/Loss',\n",
              " 'Diluted EPS',\n",
              " 'Diluted WASO',\n",
              " 'Open',\n",
              " 'return',\n",
              " 'Net Income']"
            ]
          },
          "metadata": {},
          "execution_count": 55
        }
      ]
    },
    {
      "cell_type": "markdown",
      "source": [
        "## Cash columns removal"
      ],
      "metadata": {
        "id": "5u13VyCOKGG8"
      }
    },
    {
      "cell_type": "markdown",
      "source": [
        "We still have a lot of cash flow columns that are statistically significant but are very similar from a financial perspective. Therefore we attempt to check the correlation between them and see if we can further remove some of them"
      ],
      "metadata": {
        "id": "SwMKnogVKLHQ"
      }
    },
    {
      "cell_type": "markdown",
      "source": [
        "### Change in Cash"
      ],
      "metadata": {
        "id": "CaWmdHOpKco7"
      }
    },
    {
      "cell_type": "code",
      "source": [
        "spearman_corr = stats.spearmanr(df['Change in Cash'],df['Change in Cash as Reported, Supplemental'])\n",
        "print(\"Spearman corr:\")\n",
        "print(\"For the column Change in Cash we get the correlation results:\")\n",
        "print(spearman_corr)"
      ],
      "metadata": {
        "colab": {
          "base_uri": "https://localhost:8080/"
        },
        "id": "oJ2SV0i5Khmx",
        "outputId": "45943fbd-e58e-4714-8231-f51a34fbee3d"
      },
      "execution_count": 56,
      "outputs": [
        {
          "output_type": "stream",
          "name": "stdout",
          "text": [
            "Spearman corr:\n",
            "For the column Change in Cash we get the correlation results:\n",
            "SignificanceResult(statistic=0.9903032492636884, pvalue=0.0)\n"
          ]
        }
      ]
    },
    {
      "cell_type": "markdown",
      "source": [
        "### Cash Flow from Investing"
      ],
      "metadata": {
        "id": "1B8rrpeDK23H"
      }
    },
    {
      "cell_type": "code",
      "source": [
        "spearman_corr = stats.spearmanr(df['Cash Flow from Investing Activities'],df['Cash Flow from Continuing Investing Activities'])\n",
        "print(\"Spearman corr:\")\n",
        "print(\"For the column Cash Flow from Investing we get the correlation results:\")\n",
        "print(spearman_corr)"
      ],
      "metadata": {
        "colab": {
          "base_uri": "https://localhost:8080/"
        },
        "id": "Ig9jKC4kK8-t",
        "outputId": "0fe705ea-5d0f-4661-d7c7-290db4c826cc"
      },
      "execution_count": 57,
      "outputs": [
        {
          "output_type": "stream",
          "name": "stdout",
          "text": [
            "Spearman corr:\n",
            "For the column Cash Flow from Investing we get the correlation results:\n",
            "SignificanceResult(statistic=0.9885253254302748, pvalue=0.0)\n"
          ]
        }
      ]
    },
    {
      "cell_type": "markdown",
      "source": [
        "### Cash Flow from Operations"
      ],
      "metadata": {
        "id": "9nN1PrjjLYMV"
      }
    },
    {
      "cell_type": "code",
      "source": [
        "spearman_corr = stats.spearmanr(df['Cash Generated from Operating Activities'],df['Cash Flow from Operating Activities, Indirect'])\n",
        "print(\"Spearman corr:\")\n",
        "print(\"For the column Cash Flow from Operations we get the correlation results:\")\n",
        "print(spearman_corr)"
      ],
      "metadata": {
        "colab": {
          "base_uri": "https://localhost:8080/"
        },
        "id": "T2_HZHDmLeBP",
        "outputId": "1b7a617b-7d1b-4216-8415-0c69869b2d0d"
      },
      "execution_count": 58,
      "outputs": [
        {
          "output_type": "stream",
          "name": "stdout",
          "text": [
            "Spearman corr:\n",
            "For the column Cash Flow from Operations we get the correlation results:\n",
            "SignificanceResult(statistic=0.9962892624131449, pvalue=0.0)\n"
          ]
        }
      ]
    },
    {
      "cell_type": "code",
      "source": [
        "spearman_corr = stats.spearmanr(df['Cash Generated from Operating Activities'],df['Net Cash Flow from Continuing Operating Activities, Indirect'])\n",
        "print(\"Spearman corr:\")\n",
        "print(\"For the column Cash Flow from Operations we get the correlation results:\")\n",
        "print(spearman_corr)"
      ],
      "metadata": {
        "colab": {
          "base_uri": "https://localhost:8080/"
        },
        "id": "iD_M3sAeLqyU",
        "outputId": "f277ef81-072a-4de2-949d-8b7bc51efe68"
      },
      "execution_count": 59,
      "outputs": [
        {
          "output_type": "stream",
          "name": "stdout",
          "text": [
            "Spearman corr:\n",
            "For the column Cash Flow from Operations we get the correlation results:\n",
            "SignificanceResult(statistic=0.9983068128503746, pvalue=0.0)\n"
          ]
        }
      ]
    },
    {
      "cell_type": "markdown",
      "source": [
        "### Cash Flow from Financing"
      ],
      "metadata": {
        "id": "HlSwuN1ZRaDM"
      }
    },
    {
      "cell_type": "code",
      "source": [
        "spearman_corr = stats.spearmanr(df['Cash Flow from Financing Activities'],df['Cash Flow from Continuing Financing Activities'])\n",
        "print(\"Spearman corr:\")\n",
        "print(\"For the column Cash Flow from Operations we get the correlation results:\")\n",
        "print(spearman_corr)"
      ],
      "metadata": {
        "colab": {
          "base_uri": "https://localhost:8080/"
        },
        "id": "RPgJNn69RY16",
        "outputId": "722ae273-c2e7-4ef5-8a0b-a3e7a8257ed8"
      },
      "execution_count": 60,
      "outputs": [
        {
          "output_type": "stream",
          "name": "stdout",
          "text": [
            "Spearman corr:\n",
            "For the column Cash Flow from Operations we get the correlation results:\n",
            "SignificanceResult(statistic=0.9989901440299118, pvalue=0.0)\n"
          ]
        }
      ]
    },
    {
      "cell_type": "markdown",
      "source": [
        "### Remove above columns"
      ],
      "metadata": {
        "id": "O2IVu8GZQ3VE"
      }
    },
    {
      "cell_type": "code",
      "source": [
        "df = df.drop(columns=['Change in Cash as Reported, Supplemental',\n",
        "                      'Cash Flow from Continuing Investing Activities',\n",
        "                      'Cash Flow from Operating Activities, Indirect',\n",
        "                      'Net Cash Flow from Continuing Operating Activities, Indirect',\n",
        "                      'Cash Flow from Continuing Financing Activities',\n",
        "                      ])"
      ],
      "metadata": {
        "id": "UWt0XLudKwWf"
      },
      "execution_count": 61,
      "outputs": []
    },
    {
      "cell_type": "code",
      "source": [
        "df.columns.to_list()"
      ],
      "metadata": {
        "colab": {
          "base_uri": "https://localhost:8080/"
        },
        "id": "BU2n7zwRRTq7",
        "outputId": "fab41fbf-2bdf-4881-9dbd-7f17d7a4c40a"
      },
      "execution_count": 62,
      "outputs": [
        {
          "output_type": "execute_result",
          "data": {
            "text/plain": [
              "['Total Assets',\n",
              " 'Total Current Assets',\n",
              " 'Total Non-Current Assets',\n",
              " 'Total Liabilities',\n",
              " 'Total Current Liabilities',\n",
              " 'Total Non-Current Liabilities',\n",
              " 'Total Equity',\n",
              " 'Cash Generated from Operating Activities',\n",
              " 'Income/Loss before Non-Cash Adjustment',\n",
              " 'Changes in Operating Capital',\n",
              " 'Cash Flow from Investing Activities',\n",
              " 'Cash Flow from Financing Activities',\n",
              " 'Change in Cash',\n",
              " 'Cash and Cash Equivalents, Beginning of Period',\n",
              " 'Gross Profit',\n",
              " 'Total Revenue',\n",
              " 'Total Operating Profit/Loss',\n",
              " 'Diluted EPS',\n",
              " 'Diluted WASO',\n",
              " 'Open',\n",
              " 'return',\n",
              " 'Net Income']"
            ]
          },
          "metadata": {},
          "execution_count": 62
        }
      ]
    },
    {
      "cell_type": "code",
      "source": [
        "df['Gross Margin'] = df['Gross Profit'] / df['Total Revenue']\n",
        "df['Total Current Equity'] = df['Total Current Assets'] - df['Total Current Liabilities']\n",
        "df['Net Income to Total Assets ratio'] = df['Net Income'] / df['Total Assets']\n",
        "df['Net Income to Total Equity ratio'] = df['Net Income'] / df['Total Equity']\n",
        "df['Total Assets to Total Equity ratio'] = df['Total Assets'] / df['Total Equity']\n",
        "df['Total Revenue to Total Assets ratio'] = df['Total Revenue'] / df['Total Assets']\n",
        "df['Total Revenue to Total Equity ratio'] = df['Total Revenue'] / df['Total Equity']\n",
        "df['Gross Profit to Total Assets ratio'] = df['Gross Profit'] / df['Total Assets']\n",
        "df['Gross Profit to Total Equity ratio'] = df['Gross Profit'] / df['Total Equity']\n",
        "df['Net Income to Total Assets ratio'] = df['Net Income'] / df['Total Assets']\n",
        "df['Net Income to Total Equity ratio'] = df['Net Income'] / df['Total Equity']\n",
        "\n",
        "lst = [\n",
        "    'Gross Margin',\n",
        "    'Total Current Equity',\n",
        "    'Net Income to Total Assets ratio',\n",
        "    'Net Income to Total Equity ratio',\n",
        "    'Total Assets to Total Equity ratio',\n",
        "    'Total Revenue to Total Assets ratio',\n",
        "    'Total Revenue to Total Equity ratio',\n",
        "    'Gross Profit to Total Assets ratio',\n",
        "    'Gross Profit to Total Equity ratio'\n",
        "]\n",
        "\n",
        "for column in lst:\n",
        "  spearman_corr = stats.spearmanr(df[column],df['return'])\n",
        "  if (abs(spearman_corr[0]) > 0.05) and (abs(spearman_corr[1]) < 0.05):\n",
        "    print(\"Spearman corr:\")\n",
        "    print(\"For the column \" + column + \" we get the correlation results:\")\n",
        "    print(spearman_corr)"
      ],
      "metadata": {
        "colab": {
          "base_uri": "https://localhost:8080/"
        },
        "id": "8H1o-7DHiSTe",
        "outputId": "2ebef185-08c2-4c2e-acd3-5fb741705f90"
      },
      "execution_count": 63,
      "outputs": [
        {
          "output_type": "stream",
          "name": "stdout",
          "text": [
            "Spearman corr:\n",
            "For the column Total Current Equity we get the correlation results:\n",
            "SignificanceResult(statistic=0.058158102320203575, pvalue=0.0002578460478686379)\n",
            "Spearman corr:\n",
            "For the column Net Income to Total Assets ratio we get the correlation results:\n",
            "SignificanceResult(statistic=0.21157724586975046, pvalue=3.7461500350465985e-41)\n",
            "Spearman corr:\n",
            "For the column Net Income to Total Equity ratio we get the correlation results:\n",
            "SignificanceResult(statistic=0.1595237865339182, pvalue=6.79109909023736e-24)\n",
            "Spearman corr:\n",
            "For the column Total Assets to Total Equity ratio we get the correlation results:\n",
            "SignificanceResult(statistic=0.051789164243774666, pvalue=0.0011396147548002095)\n",
            "Spearman corr:\n",
            "For the column Total Revenue to Total Assets ratio we get the correlation results:\n",
            "SignificanceResult(statistic=0.06259402100840417, pvalue=8.368451149367602e-05)\n",
            "Spearman corr:\n",
            "For the column Total Revenue to Total Equity ratio we get the correlation results:\n",
            "SignificanceResult(statistic=0.08252491290557434, pvalue=2.1042865282330072e-07)\n",
            "Spearman corr:\n",
            "For the column Gross Profit to Total Assets ratio we get the correlation results:\n",
            "SignificanceResult(statistic=0.09554841458871938, pvalue=1.8277439696830937e-09)\n",
            "Spearman corr:\n",
            "For the column Gross Profit to Total Equity ratio we get the correlation results:\n",
            "SignificanceResult(statistic=0.10584708402030243, pvalue=2.665615623318716e-11)\n"
          ]
        }
      ]
    },
    {
      "cell_type": "markdown",
      "source": [
        "## Non correlated columns"
      ],
      "metadata": {
        "id": "SC7xk0aGk3Qj"
      }
    },
    {
      "cell_type": "code",
      "source": [
        "non_correlated_columns = []\n",
        "for column in df.columns:\n",
        "  if column in ['Tiker','Date','return','Open','Year']:\n",
        "    continue\n",
        "  spearman_corr = stats.spearmanr(df[column],df['return'])\n",
        "  if (abs(spearman_corr[0]) > 0.05) and (abs(spearman_corr[1]) < 0.05):\n",
        "    print(\"Spearman corr:\")\n",
        "    print(\"For the column \" + column + \" we get the correlation results:\")\n",
        "    print(spearman_corr)\n",
        "  else:\n",
        "    non_correlated_columns.append(column)"
      ],
      "metadata": {
        "colab": {
          "base_uri": "https://localhost:8080/"
        },
        "id": "MJy028LVR90P",
        "outputId": "15de732a-ecb5-49e0-8a3f-06bc6a625f89"
      },
      "execution_count": 64,
      "outputs": [
        {
          "output_type": "stream",
          "name": "stdout",
          "text": [
            "Spearman corr:\n",
            "For the column Cash Generated from Operating Activities we get the correlation results:\n",
            "SignificanceResult(statistic=0.1588577765514353, pvalue=1.0470111539819682e-23)\n",
            "Spearman corr:\n",
            "For the column Income/Loss before Non-Cash Adjustment we get the correlation results:\n",
            "SignificanceResult(statistic=0.17477377448248893, pvalue=2.0108902357905018e-28)\n",
            "Spearman corr:\n",
            "For the column Changes in Operating Capital we get the correlation results:\n",
            "SignificanceResult(statistic=0.09276342417925419, pvalue=5.334006973834969e-09)\n",
            "Spearman corr:\n",
            "For the column Cash Flow from Investing Activities we get the correlation results:\n",
            "SignificanceResult(statistic=-0.06870907130527322, pvalue=1.569127755238584e-05)\n",
            "Spearman corr:\n",
            "For the column Change in Cash we get the correlation results:\n",
            "SignificanceResult(statistic=0.14537037172214373, pvalue=4.5020012363323285e-20)\n",
            "Spearman corr:\n",
            "For the column Gross Profit we get the correlation results:\n",
            "SignificanceResult(statistic=0.06520420315249635, pvalue=4.167888706142107e-05)\n",
            "Spearman corr:\n",
            "For the column Total Revenue we get the correlation results:\n",
            "SignificanceResult(statistic=0.052479253285717814, pvalue=0.0009772657431045511)\n",
            "Spearman corr:\n",
            "For the column Total Operating Profit/Loss we get the correlation results:\n",
            "SignificanceResult(statistic=0.15620670838179512, pvalue=5.758235177912001e-23)\n",
            "Spearman corr:\n",
            "For the column Diluted EPS we get the correlation results:\n",
            "SignificanceResult(statistic=0.1869050906748085, pvalue=2.464630777433374e-32)\n",
            "Spearman corr:\n",
            "For the column Net Income we get the correlation results:\n",
            "SignificanceResult(statistic=0.17944365220820427, pvalue=6.765632277054281e-30)\n",
            "Spearman corr:\n",
            "For the column Total Current Equity we get the correlation results:\n",
            "SignificanceResult(statistic=0.058158102320203575, pvalue=0.0002578460478686379)\n",
            "Spearman corr:\n",
            "For the column Net Income to Total Assets ratio we get the correlation results:\n",
            "SignificanceResult(statistic=0.21157724586975046, pvalue=3.7461500350465985e-41)\n",
            "Spearman corr:\n",
            "For the column Net Income to Total Equity ratio we get the correlation results:\n",
            "SignificanceResult(statistic=0.1595237865339182, pvalue=6.79109909023736e-24)\n",
            "Spearman corr:\n",
            "For the column Total Assets to Total Equity ratio we get the correlation results:\n",
            "SignificanceResult(statistic=0.051789164243774666, pvalue=0.0011396147548002095)\n",
            "Spearman corr:\n",
            "For the column Total Revenue to Total Assets ratio we get the correlation results:\n",
            "SignificanceResult(statistic=0.06259402100840417, pvalue=8.368451149367602e-05)\n",
            "Spearman corr:\n",
            "For the column Total Revenue to Total Equity ratio we get the correlation results:\n",
            "SignificanceResult(statistic=0.08252491290557434, pvalue=2.1042865282330072e-07)\n",
            "Spearman corr:\n",
            "For the column Gross Profit to Total Assets ratio we get the correlation results:\n",
            "SignificanceResult(statistic=0.09554841458871938, pvalue=1.8277439696830937e-09)\n",
            "Spearman corr:\n",
            "For the column Gross Profit to Total Equity ratio we get the correlation results:\n",
            "SignificanceResult(statistic=0.10584708402030243, pvalue=2.665615623318716e-11)\n"
          ]
        }
      ]
    },
    {
      "cell_type": "code",
      "source": [
        "for column in non_correlated_columns:\n",
        "  spearman_corr = stats.spearmanr(df['Open']/df[column],df['return'])\n",
        "  if (abs(spearman_corr[0]) > 0.05) and (abs(spearman_corr[1]) < 0.05):\n",
        "    print(\"Spearman corr:\")\n",
        "    print(\"For the column \" + column + \" we get the correlation results:\")\n",
        "    print(spearman_corr)"
      ],
      "metadata": {
        "colab": {
          "base_uri": "https://localhost:8080/"
        },
        "id": "gJcGMJyiSUJ1",
        "outputId": "16ccca36-3a64-4d18-871d-22e5cd50e247"
      },
      "execution_count": 65,
      "outputs": [
        {
          "output_type": "stream",
          "name": "stdout",
          "text": [
            "Spearman corr:\n",
            "For the column Total Assets we get the correlation results:\n",
            "SignificanceResult(statistic=-0.07649832755323724, pvalue=1.5114309000574184e-06)\n",
            "Spearman corr:\n",
            "For the column Total Current Assets we get the correlation results:\n",
            "SignificanceResult(statistic=-0.0940154416695753, pvalue=3.30821144006835e-09)\n",
            "Spearman corr:\n",
            "For the column Total Non-Current Assets we get the correlation results:\n",
            "SignificanceResult(statistic=-0.05721643377169286, pvalue=0.00032430298008718665)\n",
            "Spearman corr:\n",
            "For the column Total Liabilities we get the correlation results:\n",
            "SignificanceResult(statistic=-0.07704643425517786, pvalue=1.2707022232693775e-06)\n",
            "Spearman corr:\n",
            "For the column Total Current Liabilities we get the correlation results:\n",
            "SignificanceResult(statistic=-0.08492864173026078, pvalue=9.213545489329646e-08)\n",
            "Spearman corr:\n",
            "For the column Total Non-Current Liabilities we get the correlation results:\n",
            "SignificanceResult(statistic=-0.06406398719597882, pvalue=5.669493382833817e-05)\n",
            "Spearman corr:\n",
            "For the column Diluted WASO we get the correlation results:\n",
            "SignificanceResult(statistic=-0.05470643816339662, pvalue=0.0005879374115576427)\n"
          ]
        }
      ]
    },
    {
      "cell_type": "markdown",
      "source": [
        "### Price to column ratio"
      ],
      "metadata": {
        "id": "xwOc3B8Jo6tt"
      }
    },
    {
      "cell_type": "markdown",
      "source": [
        "We create the above columns/features that we found statistical significance along with the rest as a price to column ratio and test the statistical significance"
      ],
      "metadata": {
        "id": "du0fvSsieYqd"
      }
    },
    {
      "cell_type": "code",
      "source": [
        "columns_to_price_ratio = [\n",
        "    'Total Assets',\n",
        "    'Total Current Assets',\n",
        "    'Total Non-Current Assets',\n",
        "    'Total Liabilities',\n",
        "    'Total Current Liabilities',\n",
        "    'Total Non-Current Liabilities',\n",
        "    'Total Equity',\n",
        "    'Cash Generated from Operating Activities',\n",
        "    'Income/Loss before Non-Cash Adjustment',\n",
        "    'Changes in Operating Capital',\n",
        "    'Cash Flow from Investing Activities',\n",
        "    'Cash Flow from Financing Activities',\n",
        "    'Change in Cash',\n",
        "    'Cash and Cash Equivalents, Beginning of Period',\n",
        "    'Gross Profit',\n",
        "    'Total Revenue',\n",
        "    'Total Operating Profit/Loss',\n",
        "    'Diluted EPS',\n",
        "    'Net Income'\n",
        "]\n",
        "\n",
        "for col in columns_to_price_ratio:\n",
        "    new_col_name = f'Price to {col} ratio'\n",
        "    df[new_col_name] = df[col] / df['Open']\n",
        "\n"
      ],
      "metadata": {
        "id": "UACfrxUJlmHm"
      },
      "execution_count": 68,
      "outputs": []
    },
    {
      "cell_type": "code",
      "source": [
        "df.columns.to_list()"
      ],
      "metadata": {
        "colab": {
          "base_uri": "https://localhost:8080/"
        },
        "id": "coQ730opl20L",
        "outputId": "19251738-6601-4cf4-d583-101c19f094e8"
      },
      "execution_count": 69,
      "outputs": [
        {
          "output_type": "execute_result",
          "data": {
            "text/plain": [
              "['Total Assets',\n",
              " 'Total Current Assets',\n",
              " 'Total Non-Current Assets',\n",
              " 'Total Liabilities',\n",
              " 'Total Current Liabilities',\n",
              " 'Total Non-Current Liabilities',\n",
              " 'Total Equity',\n",
              " 'Cash Generated from Operating Activities',\n",
              " 'Income/Loss before Non-Cash Adjustment',\n",
              " 'Changes in Operating Capital',\n",
              " 'Cash Flow from Investing Activities',\n",
              " 'Cash Flow from Financing Activities',\n",
              " 'Change in Cash',\n",
              " 'Cash and Cash Equivalents, Beginning of Period',\n",
              " 'Gross Profit',\n",
              " 'Total Revenue',\n",
              " 'Total Operating Profit/Loss',\n",
              " 'Diluted EPS',\n",
              " 'Diluted WASO',\n",
              " 'Open',\n",
              " 'return',\n",
              " 'Net Income',\n",
              " 'Gross Margin',\n",
              " 'Total Current Equity',\n",
              " 'Net Income to Total Assets ratio',\n",
              " 'Net Income to Total Equity ratio',\n",
              " 'Total Assets to Total Equity ratio',\n",
              " 'Total Revenue to Total Assets ratio',\n",
              " 'Total Revenue to Total Equity ratio',\n",
              " 'Gross Profit to Total Assets ratio',\n",
              " 'Gross Profit to Total Equity ratio',\n",
              " 'Price to Total Assets ratio',\n",
              " 'Price to Total Current Assets ratio',\n",
              " 'Price to Total Non-Current Assets ratio',\n",
              " 'Price to Total Liabilities ratio',\n",
              " 'Price to Total Current Liabilities ratio',\n",
              " 'Price to Total Non-Current Liabilities ratio',\n",
              " 'Price to Total Equity ratio',\n",
              " 'Price to Cash Generated from Operating Activities ratio',\n",
              " 'Price to Income/Loss before Non-Cash Adjustment ratio',\n",
              " 'Price to Changes in Operating Capital ratio',\n",
              " 'Price to Cash Flow from Investing Activities ratio',\n",
              " 'Price to Cash Flow from Financing Activities ratio',\n",
              " 'Price to Change in Cash ratio',\n",
              " 'Price to Cash and Cash Equivalents, Beginning of Period ratio',\n",
              " 'Price to Gross Profit ratio',\n",
              " 'Price to Total Revenue ratio',\n",
              " 'Price to Total Operating Profit/Loss ratio',\n",
              " 'Price to Diluted EPS ratio',\n",
              " 'Price to Net Income ratio']"
            ]
          },
          "metadata": {},
          "execution_count": 69
        }
      ]
    },
    {
      "cell_type": "markdown",
      "source": [
        "We notice that most of our newly created columns are now statistically significant"
      ],
      "metadata": {
        "id": "766_xMMSpuhe"
      }
    },
    {
      "cell_type": "code",
      "source": [
        "price_cols = ['Price to Total Assets ratio',\n",
        " 'Price to Total Current Assets ratio',\n",
        " 'Price to Total Non-Current Assets ratio',\n",
        " 'Price to Total Liabilities ratio',\n",
        " 'Price to Total Current Liabilities ratio',\n",
        " 'Price to Total Non-Current Liabilities ratio',\n",
        " 'Price to Total Equity ratio',\n",
        " 'Price to Cash Generated from Operating Activities ratio',\n",
        " 'Price to Income/Loss before Non-Cash Adjustment ratio',\n",
        " 'Price to Changes in Operating Capital ratio',\n",
        " 'Price to Cash Flow from Investing Activities ratio',\n",
        " 'Price to Cash Flow from Financing Activities ratio',\n",
        " 'Price to Change in Cash ratio',\n",
        " 'Price to Cash and Cash Equivalents, Beginning of Period ratio',\n",
        " 'Price to Gross Profit ratio',\n",
        " 'Price to Total Revenue ratio',\n",
        " 'Price to Total Operating Profit/Loss ratio',\n",
        " 'Price to Diluted EPS ratio',\n",
        " 'Price to Net Income ratio']\n",
        "for column in price_cols:\n",
        "  spearman_corr = stats.spearmanr(df[column],df['return'])\n",
        "  if (abs(spearman_corr[0]) > 0.05) and (abs(spearman_corr[1]) < 0.05):\n",
        "    print(\"Spearman corr:\")\n",
        "    print(\"For the column \" + column + \" we get the correlation results:\")\n",
        "    print(spearman_corr)"
      ],
      "metadata": {
        "id": "v_HaS7fTmF82"
      },
      "execution_count": null,
      "outputs": []
    }
  ]
}