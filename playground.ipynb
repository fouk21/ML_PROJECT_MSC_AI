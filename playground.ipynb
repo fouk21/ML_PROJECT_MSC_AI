{
 "cells": [
  {
   "cell_type": "markdown",
   "metadata": {},
   "source": [
    "-GET PREPARE (data cleanup / curation, data source, privacy, preprocessing)\n",
    "-EXPLORE (plots, patterns, correlations, outliers, anomalies)\n",
    "-MODEL (train prediction, validation, tuning, scale and deployment)\n",
    "-COMMUNICATE ([....])"
   ]
  },
  {
   "cell_type": "markdown",
   "metadata": {},
   "source": [
    "feature engineering\n",
    "feature extraction\n",
    "feature selection : pearson correlation, wrapper method, lasso regression, explore with histogramms, scatter plots"
   ]
  },
  {
   "cell_type": "markdown",
   "metadata": {},
   "source": [
    "plot feature importance / ranking"
   ]
  },
  {
   "cell_type": "markdown",
   "metadata": {},
   "source": [
    "INITIAL CLUSTERING"
   ]
  },
  {
   "cell_type": "markdown",
   "metadata": {},
   "source": [
    "DATA INSIGHTS - VISUALISATION"
   ]
  },
  {
   "cell_type": "code",
   "execution_count": null,
   "metadata": {},
   "outputs": [],
   "source": [
    "SCALING - STANDARIZATION[prefer] - NORMALIZATION(0,1)"
   ]
  },
  {
   "cell_type": "markdown",
   "metadata": {},
   "source": [
    "method selection\n",
    "\n",
    "types / number of features\n",
    "dataset size\n",
    "explainability\n",
    "class priors\n",
    "need for param tuning\n",
    "incremental training\n",
    "in/out memory training\n",
    "prediction speed\n",
    "train speed\n",
    "performance\n",
    "features indipendent"
   ]
  },
  {
   "cell_type": "code",
   "execution_count": null,
   "metadata": {},
   "outputs": [],
   "source": [
    "\n",
    "\n",
    "# save the model\n",
    "\n",
    "  \n",
    "\n"
   ]
  },
  {
   "cell_type": "markdown",
   "metadata": {},
   "source": [
    "overfitting underfitting (bias-variance) exploration with train and validaton error"
   ]
  },
  {
   "cell_type": "markdown",
   "metadata": {},
   "source": [
    "cross validation"
   ]
  },
  {
   "cell_type": "markdown",
   "metadata": {},
   "source": [
    "pr curve"
   ]
  },
  {
   "cell_type": "markdown",
   "metadata": {},
   "source": [
    "dimentionality reduction"
   ]
  }
 ],
 "metadata": {
  "kernelspec": {
   "display_name": "ai",
   "language": "python",
   "name": "python3"
  },
  "language_info": {
   "codemirror_mode": {
    "name": "ipython",
    "version": 3
   },
   "file_extension": ".py",
   "mimetype": "text/x-python",
   "name": "python",
   "nbconvert_exporter": "python",
   "pygments_lexer": "ipython3",
   "version": "3.11.7"
  }
 },
 "nbformat": 4,
 "nbformat_minor": 2
}
